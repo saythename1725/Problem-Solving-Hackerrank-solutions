{
 "cells": [
  {
   "cell_type": "markdown",
   "metadata": {},
   "source": [
    "### 1) we define an empty array and then take input from the user for it"
   ]
  },
  {
   "cell_type": "markdown",
   "metadata": {},
   "source": [
    "##### -> [] is used to make an empty array\n",
    "##### -> in for _ in range(6): \"_\" is used for looping the input from the user for 6 different lines\n",
    "##### -> append is used to add elements to the empty array\n",
    "##### -> map(int, input()) is used to takes the function int and apply it to every input taken\n",
    "##### -> rstrip is used to remove the white space at the right end of the input\n",
    "##### -> split is used to split the input at every white space"
   ]
  },
  {
   "cell_type": "code",
   "execution_count": 4,
   "metadata": {},
   "outputs": [
    {
     "name": "stdout",
     "output_type": "stream",
     "text": [
      "1 1 1 0 0 0\n",
      "0 1 0 0 0 0\n",
      "1 1 1 0 0 0\n",
      "0 0 2 4 4 0\n",
      "0 0 0 2 0 0\n",
      "0 0 1 2 4 0\n"
     ]
    }
   ],
   "source": [
    "arr = []\n",
    "for _ in range(6):\n",
    "    arr.append(list(map(int, input().rstrip().split())))"
   ]
  },
  {
   "cell_type": "markdown",
   "metadata": {},
   "source": [
    "### 2) Make a function which outputs the maximum sum from all the possible hourglasses"
   ]
  },
  {
   "cell_type": "markdown",
   "metadata": {},
   "source": [
    "##### -> we define maxval variable as none as it is used to define a null variable or an object\n",
    "##### -> now we choose i to be in range 4 as if we exceed it then the hourglass position goes out of the array and similarly we use j to be in range 4\n",
    "##### -> now if we look at the positions of all the elements of an hourglass then we can see that the following: \n",
    "\n",
    "   ##### top elements:  a = arr[i][j], b = arr[i][j+1] and c = arr[i][j+2]\n",
    "   ##### middle element: d = arr[i+1][j+1]\n",
    "   ##### bottom elements: e = arr[i+2][j], f = arr[i+2][j+1] and g = arr[i+2][j+2]\n",
    "\n",
    "##### -> now in order to find the sum we add all of them \n",
    "##### -> now we put a condition to find the maximum sum from all the possible hourglasses that if maxval=none then the variable maxval gets assigned to the sum we get and else if the sum is greater then maxval then also we assign it to that sum and if repeat the process we ultimately get the maximum sum\n",
    "##### -> finally we output the maxval which gives us the maximum sum from all the houglasses"
   ]
  },
  {
   "cell_type": "code",
   "execution_count": 7,
   "metadata": {},
   "outputs": [
    {
     "name": "stdout",
     "output_type": "stream",
     "text": [
      "19\n"
     ]
    }
   ],
   "source": [
    "import math\n",
    "import os\n",
    "import random\n",
    "import re\n",
    "import sys\n",
    "\n",
    "maxval = None\n",
    "for i in range(4):\n",
    "    for j in range(4):\n",
    "        add = arr[i][j] + arr[i][j+1] + arr[i][j+2] + arr[i+1][j+1]+arr[i+2][j]+arr[i+2][j+1]+arr[i+2][j+2]\n",
    "        if maxval ==None:\n",
    "            maxval=add\n",
    "        elif add>maxval:\n",
    "            maxval=add\n",
    "print(maxval)"
   ]
  }
 ],
 "metadata": {
  "kernelspec": {
   "display_name": "Python 3",
   "language": "python",
   "name": "python3"
  },
  "language_info": {
   "codemirror_mode": {
    "name": "ipython",
    "version": 3
   },
   "file_extension": ".py",
   "mimetype": "text/x-python",
   "name": "python",
   "nbconvert_exporter": "python",
   "pygments_lexer": "ipython3",
   "version": "3.8.5"
  }
 },
 "nbformat": 4,
 "nbformat_minor": 4
}

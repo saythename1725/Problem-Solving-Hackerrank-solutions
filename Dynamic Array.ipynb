{
 "cells": [
  {
   "cell_type": "markdown",
   "metadata": {},
   "source": [
    "##### The first line takes in two integer values with a space between them i.e N which is equal to the length of the array which contains the sequences and Q which gives the number of queries"
   ]
  },
  {
   "cell_type": "code",
   "execution_count": 1,
   "metadata": {},
   "outputs": [
    {
     "name": "stdout",
     "output_type": "stream",
     "text": [
      "2 5\n"
     ]
    }
   ],
   "source": [
    "N, Q = map(int, input().strip().split(' '))"
   ]
  },
  {
   "cell_type": "markdown",
   "metadata": {},
   "source": [
    "##### now we need N [ ] sequences in the array and we initialize the last_answer to be 0 as given in the problem statement"
   ]
  },
  {
   "cell_type": "code",
   "execution_count": 2,
   "metadata": {},
   "outputs": [],
   "source": [
    "sequences = [[] for _ in range(N)]\n",
    "last_answer = 0"
   ]
  },
  {
   "cell_type": "markdown",
   "metadata": {},
   "source": [
    "##### now we need the user to input Q number of queries and we also need to input the values for x and y so we use strip().split() and also we define a variable seq_num for performing the function (x ^ last_answer) % N and then we define the queries that we want to perform and finally print the last_answer"
   ]
  },
  {
   "cell_type": "code",
   "execution_count": 3,
   "metadata": {},
   "outputs": [
    {
     "name": "stdout",
     "output_type": "stream",
     "text": [
      "1 0 5\n",
      "1 1 7\n",
      "1 0 3\n",
      "2 1 0\n",
      "7\n",
      "2 1 1\n",
      "3\n"
     ]
    }
   ],
   "source": [
    "for q in range(Q):\n",
    "    q_type, x, y = map(int, input().strip().split(' '))\n",
    "    seq_num = (x ^ last_answer) % N\n",
    "        \n",
    "    if q_type == 2:\n",
    "        last_answer = sequences[seq_num][y % len(sequences[seq_num])]\n",
    "        print(last_answer)\n",
    "    else:\n",
    "        sequences[seq_num].append(y)"
   ]
  },
  {
   "cell_type": "code",
   "execution_count": null,
   "metadata": {},
   "outputs": [],
   "source": []
  }
 ],
 "metadata": {
  "kernelspec": {
   "display_name": "Python 3",
   "language": "python",
   "name": "python3"
  },
  "language_info": {
   "codemirror_mode": {
    "name": "ipython",
    "version": 3
   },
   "file_extension": ".py",
   "mimetype": "text/x-python",
   "name": "python",
   "nbconvert_exporter": "python",
   "pygments_lexer": "ipython3",
   "version": "3.8.5"
  }
 },
 "nbformat": 4,
 "nbformat_minor": 4
}
